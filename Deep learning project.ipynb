{
 "cells": [
  {
   "cell_type": "code",
   "execution_count": 1,
   "id": "ff79e165",
   "metadata": {},
   "outputs": [
    {
     "name": "stderr",
     "output_type": "stream",
     "text": [
      "Using TensorFlow backend.\n"
     ]
    }
   ],
   "source": [
    "import warnings\n",
    "warnings.filterwarnings(\"ignore\")\n",
    "import numpy as np\n",
    "import pandas as pd\n",
    "import matplotlib.pyplot as plt\n",
    "import seaborn as sns\n",
    "from sklearn.model_selection import train_test_split\n",
    "from sklearn.preprocessing import StandardScaler\n",
    "from sklearn.metrics import confusion_matrix, precision_recall_curve, roc_auc_score, roc_curve, accuracy_score\n",
    "from sklearn.ensemble import RandomForestClassifier\n",
    "\n",
    "from keras.models  import Sequential\n",
    "from keras.layers import Input, Dense, Flatten, Dropout, BatchNormalization\n",
    "from keras.optimizers import Adam, SGD, RMSprop\n",
    "from keras.layers import Conv2D, MaxPooling2D"
   ]
  },
  {
   "cell_type": "code",
   "execution_count": 2,
   "id": "ec5b782c",
   "metadata": {},
   "outputs": [],
   "source": [
    "from keras import regularizers\n",
    "from keras.callbacks import EarlyStopping"
   ]
  },
  {
   "cell_type": "code",
   "execution_count": 3,
   "id": "31c5adcc",
   "metadata": {},
   "outputs": [],
   "source": [
    "data=pd.read_csv('roboBohr.csv')"
   ]
  },
  {
   "cell_type": "code",
   "execution_count": 4,
   "id": "6fb64e36",
   "metadata": {},
   "outputs": [
    {
     "data": {
      "text/html": [
       "<div>\n",
       "<style scoped>\n",
       "    .dataframe tbody tr th:only-of-type {\n",
       "        vertical-align: middle;\n",
       "    }\n",
       "\n",
       "    .dataframe tbody tr th {\n",
       "        vertical-align: top;\n",
       "    }\n",
       "\n",
       "    .dataframe thead th {\n",
       "        text-align: right;\n",
       "    }\n",
       "</style>\n",
       "<table border=\"1\" class=\"dataframe\">\n",
       "  <thead>\n",
       "    <tr style=\"text-align: right;\">\n",
       "      <th></th>\n",
       "      <th>Unnamed: 0</th>\n",
       "      <th>0</th>\n",
       "      <th>1</th>\n",
       "      <th>2</th>\n",
       "      <th>3</th>\n",
       "      <th>4</th>\n",
       "      <th>5</th>\n",
       "      <th>6</th>\n",
       "      <th>7</th>\n",
       "      <th>8</th>\n",
       "      <th>...</th>\n",
       "      <th>1267</th>\n",
       "      <th>1268</th>\n",
       "      <th>1269</th>\n",
       "      <th>1270</th>\n",
       "      <th>1271</th>\n",
       "      <th>1272</th>\n",
       "      <th>1273</th>\n",
       "      <th>1274</th>\n",
       "      <th>pubchem_id</th>\n",
       "      <th>Eat</th>\n",
       "    </tr>\n",
       "  </thead>\n",
       "  <tbody>\n",
       "    <tr>\n",
       "      <th>0</th>\n",
       "      <td>0</td>\n",
       "      <td>73.516695</td>\n",
       "      <td>17.817765</td>\n",
       "      <td>12.469551</td>\n",
       "      <td>12.458130</td>\n",
       "      <td>12.454607</td>\n",
       "      <td>12.447345</td>\n",
       "      <td>12.433065</td>\n",
       "      <td>12.426926</td>\n",
       "      <td>12.387474</td>\n",
       "      <td>...</td>\n",
       "      <td>0.0</td>\n",
       "      <td>0.0</td>\n",
       "      <td>0.5</td>\n",
       "      <td>0.0</td>\n",
       "      <td>0.0</td>\n",
       "      <td>0.0</td>\n",
       "      <td>0.0</td>\n",
       "      <td>0.0</td>\n",
       "      <td>25004</td>\n",
       "      <td>-19.013763</td>\n",
       "    </tr>\n",
       "    <tr>\n",
       "      <th>1</th>\n",
       "      <td>1</td>\n",
       "      <td>73.516695</td>\n",
       "      <td>20.649126</td>\n",
       "      <td>18.527789</td>\n",
       "      <td>17.891535</td>\n",
       "      <td>17.887995</td>\n",
       "      <td>17.871731</td>\n",
       "      <td>17.852586</td>\n",
       "      <td>17.729842</td>\n",
       "      <td>15.864270</td>\n",
       "      <td>...</td>\n",
       "      <td>0.0</td>\n",
       "      <td>0.0</td>\n",
       "      <td>0.0</td>\n",
       "      <td>0.0</td>\n",
       "      <td>0.0</td>\n",
       "      <td>0.0</td>\n",
       "      <td>0.0</td>\n",
       "      <td>0.0</td>\n",
       "      <td>25005</td>\n",
       "      <td>-10.161019</td>\n",
       "    </tr>\n",
       "    <tr>\n",
       "      <th>2</th>\n",
       "      <td>2</td>\n",
       "      <td>73.516695</td>\n",
       "      <td>17.830377</td>\n",
       "      <td>12.512263</td>\n",
       "      <td>12.404775</td>\n",
       "      <td>12.394493</td>\n",
       "      <td>12.391564</td>\n",
       "      <td>12.324461</td>\n",
       "      <td>12.238106</td>\n",
       "      <td>10.423249</td>\n",
       "      <td>...</td>\n",
       "      <td>0.0</td>\n",
       "      <td>0.0</td>\n",
       "      <td>0.0</td>\n",
       "      <td>0.0</td>\n",
       "      <td>0.0</td>\n",
       "      <td>0.0</td>\n",
       "      <td>0.0</td>\n",
       "      <td>0.0</td>\n",
       "      <td>25006</td>\n",
       "      <td>-9.376619</td>\n",
       "    </tr>\n",
       "    <tr>\n",
       "      <th>3</th>\n",
       "      <td>3</td>\n",
       "      <td>73.516695</td>\n",
       "      <td>17.875810</td>\n",
       "      <td>17.871259</td>\n",
       "      <td>17.862402</td>\n",
       "      <td>17.850920</td>\n",
       "      <td>17.850440</td>\n",
       "      <td>12.558105</td>\n",
       "      <td>12.557645</td>\n",
       "      <td>12.517583</td>\n",
       "      <td>...</td>\n",
       "      <td>0.0</td>\n",
       "      <td>0.0</td>\n",
       "      <td>0.0</td>\n",
       "      <td>0.0</td>\n",
       "      <td>0.0</td>\n",
       "      <td>0.0</td>\n",
       "      <td>0.0</td>\n",
       "      <td>0.0</td>\n",
       "      <td>25009</td>\n",
       "      <td>-13.776438</td>\n",
       "    </tr>\n",
       "    <tr>\n",
       "      <th>4</th>\n",
       "      <td>4</td>\n",
       "      <td>73.516695</td>\n",
       "      <td>17.883818</td>\n",
       "      <td>17.868256</td>\n",
       "      <td>17.864221</td>\n",
       "      <td>17.818540</td>\n",
       "      <td>12.508657</td>\n",
       "      <td>12.490519</td>\n",
       "      <td>12.450098</td>\n",
       "      <td>10.597068</td>\n",
       "      <td>...</td>\n",
       "      <td>0.0</td>\n",
       "      <td>0.0</td>\n",
       "      <td>0.0</td>\n",
       "      <td>0.0</td>\n",
       "      <td>0.0</td>\n",
       "      <td>0.0</td>\n",
       "      <td>0.0</td>\n",
       "      <td>0.0</td>\n",
       "      <td>25011</td>\n",
       "      <td>-8.537140</td>\n",
       "    </tr>\n",
       "  </tbody>\n",
       "</table>\n",
       "<p>5 rows × 1278 columns</p>\n",
       "</div>"
      ],
      "text/plain": [
       "   Unnamed: 0          0          1          2          3          4  \\\n",
       "0           0  73.516695  17.817765  12.469551  12.458130  12.454607   \n",
       "1           1  73.516695  20.649126  18.527789  17.891535  17.887995   \n",
       "2           2  73.516695  17.830377  12.512263  12.404775  12.394493   \n",
       "3           3  73.516695  17.875810  17.871259  17.862402  17.850920   \n",
       "4           4  73.516695  17.883818  17.868256  17.864221  17.818540   \n",
       "\n",
       "           5          6          7          8  ...  1267  1268  1269  1270  \\\n",
       "0  12.447345  12.433065  12.426926  12.387474  ...   0.0   0.0   0.5   0.0   \n",
       "1  17.871731  17.852586  17.729842  15.864270  ...   0.0   0.0   0.0   0.0   \n",
       "2  12.391564  12.324461  12.238106  10.423249  ...   0.0   0.0   0.0   0.0   \n",
       "3  17.850440  12.558105  12.557645  12.517583  ...   0.0   0.0   0.0   0.0   \n",
       "4  12.508657  12.490519  12.450098  10.597068  ...   0.0   0.0   0.0   0.0   \n",
       "\n",
       "   1271  1272  1273  1274  pubchem_id        Eat  \n",
       "0   0.0   0.0   0.0   0.0       25004 -19.013763  \n",
       "1   0.0   0.0   0.0   0.0       25005 -10.161019  \n",
       "2   0.0   0.0   0.0   0.0       25006  -9.376619  \n",
       "3   0.0   0.0   0.0   0.0       25009 -13.776438  \n",
       "4   0.0   0.0   0.0   0.0       25011  -8.537140  \n",
       "\n",
       "[5 rows x 1278 columns]"
      ]
     },
     "execution_count": 4,
     "metadata": {},
     "output_type": "execute_result"
    }
   ],
   "source": [
    "data.head()"
   ]
  },
  {
   "cell_type": "code",
   "execution_count": 5,
   "id": "f91dcf61",
   "metadata": {},
   "outputs": [],
   "source": [
    "df=data.drop(['Unnamed: 0','pubchem_id'],axis=1)"
   ]
  },
  {
   "cell_type": "code",
   "execution_count": 6,
   "id": "f00edb30",
   "metadata": {},
   "outputs": [
    {
     "data": {
      "text/plain": [
       "(16242, 1276)"
      ]
     },
     "execution_count": 6,
     "metadata": {},
     "output_type": "execute_result"
    }
   ],
   "source": [
    "df.shape"
   ]
  },
  {
   "cell_type": "code",
   "execution_count": 75,
   "id": "202364f9",
   "metadata": {},
   "outputs": [
    {
     "data": {
      "text/html": [
       "<div>\n",
       "<style scoped>\n",
       "    .dataframe tbody tr th:only-of-type {\n",
       "        vertical-align: middle;\n",
       "    }\n",
       "\n",
       "    .dataframe tbody tr th {\n",
       "        vertical-align: top;\n",
       "    }\n",
       "\n",
       "    .dataframe thead th {\n",
       "        text-align: right;\n",
       "    }\n",
       "</style>\n",
       "<table border=\"1\" class=\"dataframe\">\n",
       "  <thead>\n",
       "    <tr style=\"text-align: right;\">\n",
       "      <th></th>\n",
       "      <th>0</th>\n",
       "      <th>1</th>\n",
       "      <th>2</th>\n",
       "      <th>3</th>\n",
       "      <th>4</th>\n",
       "      <th>5</th>\n",
       "      <th>6</th>\n",
       "      <th>7</th>\n",
       "      <th>8</th>\n",
       "      <th>9</th>\n",
       "      <th>...</th>\n",
       "      <th>1266</th>\n",
       "      <th>1267</th>\n",
       "      <th>1268</th>\n",
       "      <th>1269</th>\n",
       "      <th>1270</th>\n",
       "      <th>1271</th>\n",
       "      <th>1272</th>\n",
       "      <th>1273</th>\n",
       "      <th>1274</th>\n",
       "      <th>Eat</th>\n",
       "    </tr>\n",
       "  </thead>\n",
       "  <tbody>\n",
       "    <tr>\n",
       "      <th>0</th>\n",
       "      <td>1.000</td>\n",
       "      <td>0.844</td>\n",
       "      <td>0.810</td>\n",
       "      <td>0.743</td>\n",
       "      <td>0.695</td>\n",
       "      <td>0.610</td>\n",
       "      <td>0.557</td>\n",
       "      <td>0.528</td>\n",
       "      <td>0.489</td>\n",
       "      <td>0.456</td>\n",
       "      <td>...</td>\n",
       "      <td>-0.006</td>\n",
       "      <td>-0.006</td>\n",
       "      <td>-0.006</td>\n",
       "      <td>-0.014</td>\n",
       "      <td>-0.006</td>\n",
       "      <td>-0.006</td>\n",
       "      <td>-0.009</td>\n",
       "      <td>-0.006</td>\n",
       "      <td>-0.005</td>\n",
       "      <td>0.100</td>\n",
       "    </tr>\n",
       "    <tr>\n",
       "      <th>1</th>\n",
       "      <td>0.844</td>\n",
       "      <td>1.000</td>\n",
       "      <td>0.901</td>\n",
       "      <td>0.872</td>\n",
       "      <td>0.804</td>\n",
       "      <td>0.695</td>\n",
       "      <td>0.633</td>\n",
       "      <td>0.604</td>\n",
       "      <td>0.563</td>\n",
       "      <td>0.530</td>\n",
       "      <td>...</td>\n",
       "      <td>-0.011</td>\n",
       "      <td>-0.011</td>\n",
       "      <td>-0.011</td>\n",
       "      <td>-0.018</td>\n",
       "      <td>-0.011</td>\n",
       "      <td>-0.011</td>\n",
       "      <td>-0.012</td>\n",
       "      <td>-0.011</td>\n",
       "      <td>-0.011</td>\n",
       "      <td>0.105</td>\n",
       "    </tr>\n",
       "    <tr>\n",
       "      <th>2</th>\n",
       "      <td>0.810</td>\n",
       "      <td>0.901</td>\n",
       "      <td>1.000</td>\n",
       "      <td>0.931</td>\n",
       "      <td>0.871</td>\n",
       "      <td>0.737</td>\n",
       "      <td>0.697</td>\n",
       "      <td>0.652</td>\n",
       "      <td>0.618</td>\n",
       "      <td>0.577</td>\n",
       "      <td>...</td>\n",
       "      <td>-0.013</td>\n",
       "      <td>-0.013</td>\n",
       "      <td>-0.013</td>\n",
       "      <td>-0.017</td>\n",
       "      <td>-0.013</td>\n",
       "      <td>-0.013</td>\n",
       "      <td>-0.012</td>\n",
       "      <td>-0.013</td>\n",
       "      <td>-0.012</td>\n",
       "      <td>0.064</td>\n",
       "    </tr>\n",
       "    <tr>\n",
       "      <th>3</th>\n",
       "      <td>0.743</td>\n",
       "      <td>0.872</td>\n",
       "      <td>0.931</td>\n",
       "      <td>1.000</td>\n",
       "      <td>0.926</td>\n",
       "      <td>0.792</td>\n",
       "      <td>0.755</td>\n",
       "      <td>0.712</td>\n",
       "      <td>0.675</td>\n",
       "      <td>0.629</td>\n",
       "      <td>...</td>\n",
       "      <td>-0.011</td>\n",
       "      <td>-0.011</td>\n",
       "      <td>-0.011</td>\n",
       "      <td>-0.014</td>\n",
       "      <td>-0.011</td>\n",
       "      <td>-0.011</td>\n",
       "      <td>-0.010</td>\n",
       "      <td>-0.011</td>\n",
       "      <td>-0.011</td>\n",
       "      <td>0.025</td>\n",
       "    </tr>\n",
       "    <tr>\n",
       "      <th>4</th>\n",
       "      <td>0.695</td>\n",
       "      <td>0.804</td>\n",
       "      <td>0.871</td>\n",
       "      <td>0.926</td>\n",
       "      <td>1.000</td>\n",
       "      <td>0.866</td>\n",
       "      <td>0.831</td>\n",
       "      <td>0.779</td>\n",
       "      <td>0.752</td>\n",
       "      <td>0.700</td>\n",
       "      <td>...</td>\n",
       "      <td>-0.006</td>\n",
       "      <td>-0.006</td>\n",
       "      <td>-0.006</td>\n",
       "      <td>-0.008</td>\n",
       "      <td>-0.006</td>\n",
       "      <td>-0.006</td>\n",
       "      <td>-0.006</td>\n",
       "      <td>-0.006</td>\n",
       "      <td>-0.006</td>\n",
       "      <td>-0.022</td>\n",
       "    </tr>\n",
       "    <tr>\n",
       "      <th>...</th>\n",
       "      <td>...</td>\n",
       "      <td>...</td>\n",
       "      <td>...</td>\n",
       "      <td>...</td>\n",
       "      <td>...</td>\n",
       "      <td>...</td>\n",
       "      <td>...</td>\n",
       "      <td>...</td>\n",
       "      <td>...</td>\n",
       "      <td>...</td>\n",
       "      <td>...</td>\n",
       "      <td>...</td>\n",
       "      <td>...</td>\n",
       "      <td>...</td>\n",
       "      <td>...</td>\n",
       "      <td>...</td>\n",
       "      <td>...</td>\n",
       "      <td>...</td>\n",
       "      <td>...</td>\n",
       "      <td>...</td>\n",
       "      <td>...</td>\n",
       "    </tr>\n",
       "    <tr>\n",
       "      <th>1271</th>\n",
       "      <td>-0.006</td>\n",
       "      <td>-0.011</td>\n",
       "      <td>-0.013</td>\n",
       "      <td>-0.011</td>\n",
       "      <td>-0.006</td>\n",
       "      <td>0.001</td>\n",
       "      <td>0.007</td>\n",
       "      <td>0.010</td>\n",
       "      <td>0.014</td>\n",
       "      <td>0.017</td>\n",
       "      <td>...</td>\n",
       "      <td>1.000</td>\n",
       "      <td>1.000</td>\n",
       "      <td>1.000</td>\n",
       "      <td>0.554</td>\n",
       "      <td>1.000</td>\n",
       "      <td>1.000</td>\n",
       "      <td>0.745</td>\n",
       "      <td>1.000</td>\n",
       "      <td>0.999</td>\n",
       "      <td>-0.140</td>\n",
       "    </tr>\n",
       "    <tr>\n",
       "      <th>1272</th>\n",
       "      <td>-0.009</td>\n",
       "      <td>-0.012</td>\n",
       "      <td>-0.012</td>\n",
       "      <td>-0.010</td>\n",
       "      <td>-0.006</td>\n",
       "      <td>-0.001</td>\n",
       "      <td>0.005</td>\n",
       "      <td>0.007</td>\n",
       "      <td>0.011</td>\n",
       "      <td>0.017</td>\n",
       "      <td>...</td>\n",
       "      <td>0.745</td>\n",
       "      <td>0.745</td>\n",
       "      <td>0.745</td>\n",
       "      <td>0.744</td>\n",
       "      <td>0.745</td>\n",
       "      <td>0.745</td>\n",
       "      <td>1.000</td>\n",
       "      <td>0.745</td>\n",
       "      <td>0.746</td>\n",
       "      <td>-0.184</td>\n",
       "    </tr>\n",
       "    <tr>\n",
       "      <th>1273</th>\n",
       "      <td>-0.006</td>\n",
       "      <td>-0.011</td>\n",
       "      <td>-0.013</td>\n",
       "      <td>-0.011</td>\n",
       "      <td>-0.006</td>\n",
       "      <td>0.001</td>\n",
       "      <td>0.007</td>\n",
       "      <td>0.010</td>\n",
       "      <td>0.013</td>\n",
       "      <td>0.017</td>\n",
       "      <td>...</td>\n",
       "      <td>1.000</td>\n",
       "      <td>1.000</td>\n",
       "      <td>1.000</td>\n",
       "      <td>0.554</td>\n",
       "      <td>1.000</td>\n",
       "      <td>1.000</td>\n",
       "      <td>0.745</td>\n",
       "      <td>1.000</td>\n",
       "      <td>0.999</td>\n",
       "      <td>-0.140</td>\n",
       "    </tr>\n",
       "    <tr>\n",
       "      <th>1274</th>\n",
       "      <td>-0.005</td>\n",
       "      <td>-0.011</td>\n",
       "      <td>-0.012</td>\n",
       "      <td>-0.011</td>\n",
       "      <td>-0.006</td>\n",
       "      <td>0.002</td>\n",
       "      <td>0.007</td>\n",
       "      <td>0.010</td>\n",
       "      <td>0.014</td>\n",
       "      <td>0.017</td>\n",
       "      <td>...</td>\n",
       "      <td>0.999</td>\n",
       "      <td>0.999</td>\n",
       "      <td>0.999</td>\n",
       "      <td>0.555</td>\n",
       "      <td>0.999</td>\n",
       "      <td>0.999</td>\n",
       "      <td>0.746</td>\n",
       "      <td>0.999</td>\n",
       "      <td>1.000</td>\n",
       "      <td>-0.141</td>\n",
       "    </tr>\n",
       "    <tr>\n",
       "      <th>Eat</th>\n",
       "      <td>0.100</td>\n",
       "      <td>0.105</td>\n",
       "      <td>0.064</td>\n",
       "      <td>0.025</td>\n",
       "      <td>-0.022</td>\n",
       "      <td>-0.090</td>\n",
       "      <td>-0.152</td>\n",
       "      <td>-0.220</td>\n",
       "      <td>-0.274</td>\n",
       "      <td>-0.335</td>\n",
       "      <td>...</td>\n",
       "      <td>-0.140</td>\n",
       "      <td>-0.140</td>\n",
       "      <td>-0.140</td>\n",
       "      <td>-0.241</td>\n",
       "      <td>-0.140</td>\n",
       "      <td>-0.140</td>\n",
       "      <td>-0.184</td>\n",
       "      <td>-0.140</td>\n",
       "      <td>-0.141</td>\n",
       "      <td>1.000</td>\n",
       "    </tr>\n",
       "  </tbody>\n",
       "</table>\n",
       "<p>1276 rows × 1276 columns</p>\n",
       "</div>"
      ],
      "text/plain": [
       "          0      1      2      3      4      5      6      7      8      9  \\\n",
       "0     1.000  0.844  0.810  0.743  0.695  0.610  0.557  0.528  0.489  0.456   \n",
       "1     0.844  1.000  0.901  0.872  0.804  0.695  0.633  0.604  0.563  0.530   \n",
       "2     0.810  0.901  1.000  0.931  0.871  0.737  0.697  0.652  0.618  0.577   \n",
       "3     0.743  0.872  0.931  1.000  0.926  0.792  0.755  0.712  0.675  0.629   \n",
       "4     0.695  0.804  0.871  0.926  1.000  0.866  0.831  0.779  0.752  0.700   \n",
       "...     ...    ...    ...    ...    ...    ...    ...    ...    ...    ...   \n",
       "1271 -0.006 -0.011 -0.013 -0.011 -0.006  0.001  0.007  0.010  0.014  0.017   \n",
       "1272 -0.009 -0.012 -0.012 -0.010 -0.006 -0.001  0.005  0.007  0.011  0.017   \n",
       "1273 -0.006 -0.011 -0.013 -0.011 -0.006  0.001  0.007  0.010  0.013  0.017   \n",
       "1274 -0.005 -0.011 -0.012 -0.011 -0.006  0.002  0.007  0.010  0.014  0.017   \n",
       "Eat   0.100  0.105  0.064  0.025 -0.022 -0.090 -0.152 -0.220 -0.274 -0.335   \n",
       "\n",
       "      ...   1266   1267   1268   1269   1270   1271   1272   1273   1274  \\\n",
       "0     ... -0.006 -0.006 -0.006 -0.014 -0.006 -0.006 -0.009 -0.006 -0.005   \n",
       "1     ... -0.011 -0.011 -0.011 -0.018 -0.011 -0.011 -0.012 -0.011 -0.011   \n",
       "2     ... -0.013 -0.013 -0.013 -0.017 -0.013 -0.013 -0.012 -0.013 -0.012   \n",
       "3     ... -0.011 -0.011 -0.011 -0.014 -0.011 -0.011 -0.010 -0.011 -0.011   \n",
       "4     ... -0.006 -0.006 -0.006 -0.008 -0.006 -0.006 -0.006 -0.006 -0.006   \n",
       "...   ...    ...    ...    ...    ...    ...    ...    ...    ...    ...   \n",
       "1271  ...  1.000  1.000  1.000  0.554  1.000  1.000  0.745  1.000  0.999   \n",
       "1272  ...  0.745  0.745  0.745  0.744  0.745  0.745  1.000  0.745  0.746   \n",
       "1273  ...  1.000  1.000  1.000  0.554  1.000  1.000  0.745  1.000  0.999   \n",
       "1274  ...  0.999  0.999  0.999  0.555  0.999  0.999  0.746  0.999  1.000   \n",
       "Eat   ... -0.140 -0.140 -0.140 -0.241 -0.140 -0.140 -0.184 -0.140 -0.141   \n",
       "\n",
       "        Eat  \n",
       "0     0.100  \n",
       "1     0.105  \n",
       "2     0.064  \n",
       "3     0.025  \n",
       "4    -0.022  \n",
       "...     ...  \n",
       "1271 -0.140  \n",
       "1272 -0.184  \n",
       "1273 -0.140  \n",
       "1274 -0.141  \n",
       "Eat   1.000  \n",
       "\n",
       "[1276 rows x 1276 columns]"
      ]
     },
     "execution_count": 75,
     "metadata": {},
     "output_type": "execute_result"
    }
   ],
   "source": [
    "df.corr()"
   ]
  },
  {
   "cell_type": "code",
   "execution_count": 76,
   "id": "d803bf2c",
   "metadata": {},
   "outputs": [
    {
     "data": {
      "text/plain": [
       "Text(0.5, 1.0, 'Atomization Energy Distribution')"
      ]
     },
     "execution_count": 76,
     "metadata": {},
     "output_type": "execute_result"
    },
    {
     "data": {
      "image/png": "[encoded data removed]",
      "text/plain": [
       "<Figure size 432x288 with 1 Axes>"
      ]
     },
     "metadata": {
      "needs_background": "light"
     },
     "output_type": "display_data"
    }
   ],
   "source": [
    "sns.distplot(df['Eat'], kde=True, color=\"r\")\n",
    "plt.xlabel('Atomization Energy (kcal/mol)')\n",
    "plt.ylabel ('Frequency Density')\n",
    "plt.title('Atomization Energy Distribution')"
   ]
  },
  {
   "cell_type": "code",
   "execution_count": 78,
   "id": "e2710316",
   "metadata": {},
   "outputs": [
    {
     "data": {
      "text/plain": [
       "<AxesSubplot:xlabel='Eat'>"
      ]
     },
     "execution_count": 78,
     "metadata": {},
     "output_type": "execute_result"
    },
    {
     "data": {
      "image/png": "[encoded data removed]",
      "text/plain": [
       "<Figure size 432x288 with 1 Axes>"
      ]
     },
     "metadata": {
      "needs_background": "light"
     },
     "output_type": "display_data"
    }
   ],
   "source": [
    "sns.violinplot(df['Eat'])"
   ]
  },
  {
   "cell_type": "code",
   "execution_count": 7,
   "id": "3b968dfa",
   "metadata": {},
   "outputs": [
    {
     "data": {
      "text/html": [
       "<div>\n",
       "<style scoped>\n",
       "    .dataframe tbody tr th:only-of-type {\n",
       "        vertical-align: middle;\n",
       "    }\n",
       "\n",
       "    .dataframe tbody tr th {\n",
       "        vertical-align: top;\n",
       "    }\n",
       "\n",
       "    .dataframe thead th {\n",
       "        text-align: right;\n",
       "    }\n",
       "</style>\n",
       "<table border=\"1\" class=\"dataframe\">\n",
       "  <thead>\n",
       "    <tr style=\"text-align: right;\">\n",
       "      <th></th>\n",
       "      <th>count</th>\n",
       "      <th>mean</th>\n",
       "      <th>std</th>\n",
       "      <th>min</th>\n",
       "      <th>25%</th>\n",
       "      <th>50%</th>\n",
       "      <th>75%</th>\n",
       "      <th>max</th>\n",
       "    </tr>\n",
       "  </thead>\n",
       "  <tbody>\n",
       "    <tr>\n",
       "      <th>0</th>\n",
       "      <td>16242.000</td>\n",
       "      <td>115.715</td>\n",
       "      <td>113.199</td>\n",
       "      <td>36.858</td>\n",
       "      <td>73.517</td>\n",
       "      <td>73.517</td>\n",
       "      <td>73.517</td>\n",
       "      <td>388.023</td>\n",
       "    </tr>\n",
       "    <tr>\n",
       "      <th>1</th>\n",
       "      <td>16242.000</td>\n",
       "      <td>22.446</td>\n",
       "      <td>8.660</td>\n",
       "      <td>2.906</td>\n",
       "      <td>17.969</td>\n",
       "      <td>20.663</td>\n",
       "      <td>21.132</td>\n",
       "      <td>73.564</td>\n",
       "    </tr>\n",
       "    <tr>\n",
       "      <th>2</th>\n",
       "      <td>16242.000</td>\n",
       "      <td>20.474</td>\n",
       "      <td>7.670</td>\n",
       "      <td>0.000</td>\n",
       "      <td>16.228</td>\n",
       "      <td>18.631</td>\n",
       "      <td>20.739</td>\n",
       "      <td>66.269</td>\n",
       "    </tr>\n",
       "    <tr>\n",
       "      <th>3</th>\n",
       "      <td>16242.000</td>\n",
       "      <td>18.530</td>\n",
       "      <td>6.486</td>\n",
       "      <td>0.000</td>\n",
       "      <td>15.166</td>\n",
       "      <td>17.691</td>\n",
       "      <td>18.713</td>\n",
       "      <td>66.269</td>\n",
       "    </tr>\n",
       "    <tr>\n",
       "      <th>4</th>\n",
       "      <td>16242.000</td>\n",
       "      <td>17.169</td>\n",
       "      <td>5.513</td>\n",
       "      <td>0.000</td>\n",
       "      <td>13.744</td>\n",
       "      <td>16.020</td>\n",
       "      <td>18.298</td>\n",
       "      <td>66.269</td>\n",
       "    </tr>\n",
       "    <tr>\n",
       "      <th>...</th>\n",
       "      <td>...</td>\n",
       "      <td>...</td>\n",
       "      <td>...</td>\n",
       "      <td>...</td>\n",
       "      <td>...</td>\n",
       "      <td>...</td>\n",
       "      <td>...</td>\n",
       "      <td>...</td>\n",
       "    </tr>\n",
       "    <tr>\n",
       "      <th>1271</th>\n",
       "      <td>16242.000</td>\n",
       "      <td>0.000</td>\n",
       "      <td>0.003</td>\n",
       "      <td>0.000</td>\n",
       "      <td>0.000</td>\n",
       "      <td>0.000</td>\n",
       "      <td>0.000</td>\n",
       "      <td>0.060</td>\n",
       "    </tr>\n",
       "    <tr>\n",
       "      <th>1272</th>\n",
       "      <td>16242.000</td>\n",
       "      <td>0.002</td>\n",
       "      <td>0.033</td>\n",
       "      <td>0.000</td>\n",
       "      <td>0.000</td>\n",
       "      <td>0.000</td>\n",
       "      <td>0.000</td>\n",
       "      <td>0.500</td>\n",
       "    </tr>\n",
       "    <tr>\n",
       "      <th>1273</th>\n",
       "      <td>16242.000</td>\n",
       "      <td>0.000</td>\n",
       "      <td>0.003</td>\n",
       "      <td>0.000</td>\n",
       "      <td>0.000</td>\n",
       "      <td>0.000</td>\n",
       "      <td>0.000</td>\n",
       "      <td>0.058</td>\n",
       "    </tr>\n",
       "    <tr>\n",
       "      <th>1274</th>\n",
       "      <td>16242.000</td>\n",
       "      <td>0.001</td>\n",
       "      <td>0.024</td>\n",
       "      <td>0.000</td>\n",
       "      <td>0.000</td>\n",
       "      <td>0.000</td>\n",
       "      <td>0.000</td>\n",
       "      <td>0.500</td>\n",
       "    </tr>\n",
       "    <tr>\n",
       "      <th>Eat</th>\n",
       "      <td>16242.000</td>\n",
       "      <td>-11.179</td>\n",
       "      <td>3.659</td>\n",
       "      <td>-23.245</td>\n",
       "      <td>-13.476</td>\n",
       "      <td>-10.835</td>\n",
       "      <td>-8.624</td>\n",
       "      <td>-0.790</td>\n",
       "    </tr>\n",
       "  </tbody>\n",
       "</table>\n",
       "<p>1276 rows × 8 columns</p>\n",
       "</div>"
      ],
      "text/plain": [
       "         count    mean     std     min     25%     50%    75%     max\n",
       "0    16242.000 115.715 113.199  36.858  73.517  73.517 73.517 388.023\n",
       "1    16242.000  22.446   8.660   2.906  17.969  20.663 21.132  73.564\n",
       "2    16242.000  20.474   7.670   0.000  16.228  18.631 20.739  66.269\n",
       "3    16242.000  18.530   6.486   0.000  15.166  17.691 18.713  66.269\n",
       "4    16242.000  17.169   5.513   0.000  13.744  16.020 18.298  66.269\n",
       "...        ...     ...     ...     ...     ...     ...    ...     ...\n",
       "1271 16242.000   0.000   0.003   0.000   0.000   0.000  0.000   0.060\n",
       "1272 16242.000   0.002   0.033   0.000   0.000   0.000  0.000   0.500\n",
       "1273 16242.000   0.000   0.003   0.000   0.000   0.000  0.000   0.058\n",
       "1274 16242.000   0.001   0.024   0.000   0.000   0.000  0.000   0.500\n",
       "Eat  16242.000 -11.179   3.659 -23.245 -13.476 -10.835 -8.624  -0.790\n",
       "\n",
       "[1276 rows x 8 columns]"
      ]
     },
     "execution_count": 7,
     "metadata": {},
     "output_type": "execute_result"
    }
   ],
   "source": [
    "pd.set_option('display.float_format', lambda x: '%.3f' % x)\n",
    "df.describe().T"
   ]
  },
  {
   "cell_type": "code",
   "execution_count": 8,
   "id": "669ce7c0",
   "metadata": {},
   "outputs": [
    {
     "data": {
      "text/plain": [
       "0       float64\n",
       "1       float64\n",
       "2       float64\n",
       "3       float64\n",
       "4       float64\n",
       "         ...   \n",
       "1271    float64\n",
       "1272    float64\n",
       "1273    float64\n",
       "1274    float64\n",
       "Eat     float64\n",
       "Length: 1276, dtype: object"
      ]
     },
     "execution_count": 8,
     "metadata": {},
     "output_type": "execute_result"
    }
   ],
   "source": [
    "df.dtypes"
   ]
  },
  {
   "cell_type": "code",
   "execution_count": 9,
   "id": "b3765ab8",
   "metadata": {},
   "outputs": [],
   "source": [
    "X = df.drop(['Eat'], axis = 1)\n",
    "Y = df['Eat']\n",
    "y=Y.values\n",
    "x=X.values"
   ]
  },
  {
   "cell_type": "code",
   "execution_count": 10,
   "id": "c9de6b81",
   "metadata": {},
   "outputs": [],
   "source": [
    "x_train, x_test, y_train, y_test = train_test_split(x, y, test_size=0.10, random_state=42)"
   ]
  },
  {
   "cell_type": "code",
   "execution_count": 11,
   "id": "320abdda",
   "metadata": {},
   "outputs": [
    {
     "data": {
      "text/plain": [
       "(14617, 1275)"
      ]
     },
     "execution_count": 11,
     "metadata": {},
     "output_type": "execute_result"
    }
   ],
   "source": [
    "x_train.shape"
   ]
  },
  {
   "cell_type": "code",
   "execution_count": 12,
   "id": "a7a66d62",
   "metadata": {},
   "outputs": [
    {
     "name": "stdout",
     "output_type": "stream",
     "text": [
      "Train on 14617 samples, validate on 1625 samples\n",
      "Epoch 1/25\n",
      " - 25s - loss: 3.7027 - val_loss: 0.3753\n",
      "Epoch 2/25\n",
      " - 23s - loss: 1.6220 - val_loss: 0.3739\n",
      "Epoch 3/25\n",
      " - 26s - loss: 1.6593 - val_loss: 0.1436\n",
      "Epoch 4/25\n",
      " - 24s - loss: 1.5329 - val_loss: 0.1734\n",
      "Epoch 5/25\n",
      " - 24s - loss: 1.4713 - val_loss: 0.3411\n",
      "Epoch 6/25\n",
      " - 24s - loss: 1.4907 - val_loss: 0.1635\n",
      "Epoch 7/25\n",
      " - 24s - loss: 1.4325 - val_loss: 0.1982\n",
      "Epoch 8/25\n",
      " - 22s - loss: 1.3746 - val_loss: 0.3506\n",
      "Epoch 9/25\n",
      " - 24s - loss: 1.3740 - val_loss: 0.1772\n",
      "Epoch 10/25\n",
      " - 23s - loss: 1.3143 - val_loss: 0.2648\n",
      "Epoch 11/25\n",
      " - 21s - loss: 1.2589 - val_loss: 0.1115\n",
      "Epoch 12/25\n",
      " - 22s - loss: 1.2477 - val_loss: 0.1708\n",
      "Epoch 13/25\n",
      " - 25s - loss: 1.2114 - val_loss: 0.1674\n",
      "Epoch 14/25\n",
      " - 28s - loss: 1.1990 - val_loss: 0.2714\n",
      "Epoch 15/25\n",
      " - 26s - loss: 1.1647 - val_loss: 0.1238\n",
      "Epoch 16/25\n",
      " - 27s - loss: 1.1396 - val_loss: 0.1294\n",
      "Epoch 17/25\n",
      " - 25s - loss: 1.0944 - val_loss: 0.1910\n",
      "Epoch 18/25\n",
      " - 24s - loss: 1.0694 - val_loss: 0.1236\n",
      "Epoch 19/25\n",
      " - 24s - loss: 1.0334 - val_loss: 0.0974\n",
      "Epoch 20/25\n",
      " - 28s - loss: 1.0670 - val_loss: 0.0930\n",
      "Epoch 21/25\n",
      " - 24s - loss: 1.0038 - val_loss: 0.1058\n",
      "Epoch 22/25\n",
      " - 25s - loss: 0.9777 - val_loss: 0.1378\n",
      "Epoch 23/25\n",
      " - 22s - loss: 0.9911 - val_loss: 0.0996\n",
      "Epoch 24/25\n",
      " - 25s - loss: 0.9583 - val_loss: 0.2133\n",
      "Epoch 25/25\n",
      " - 23s - loss: 0.9199 - val_loss: 0.1032\n"
     ]
    }
   ],
   "source": [
    "model = Sequential()\n",
    "model.add(Dense(1000, input_dim=x.shape[1],kernel_initializer='normal', activation='sigmoid'))\n",
    "model.add(Dropout(0.25))\n",
    "model.add(Dense(500,kernel_initializer='normal', activation='sigmoid'))\n",
    "model.add(Dropout(0.25))\n",
    "model.add(Dense(50,kernel_initializer='normal'))\n",
    "model.add(Dropout(0.25))\n",
    "model.add(Dense(1))\n",
    "model.compile(loss='mean_squared_error', optimizer='adam')\n",
    "hist=model.fit(x_train, y_train,validation_data=(x_test,y_test),verbose=2,epochs=25)"
   ]
  },
  {
   "cell_type": "code",
   "execution_count": 13,
   "id": "2e20b1ef",
   "metadata": {},
   "outputs": [
    {
     "name": "stdout",
     "output_type": "stream",
     "text": [
      "Model: \"sequential_1\"\n",
      "_________________________________________________________________\n",
      "Layer (type)                 Output Shape              Param #   \n",
      "=================================================================\n",
      "dense_1 (Dense)              (None, 1000)              1276000   \n",
      "_________________________________________________________________\n",
      "dropout_1 (Dropout)          (None, 1000)              0         \n",
      "_________________________________________________________________\n",
      "dense_2 (Dense)              (None, 500)               500500    \n",
      "_________________________________________________________________\n",
      "dropout_2 (Dropout)          (None, 500)               0         \n",
      "_________________________________________________________________\n",
      "dense_3 (Dense)              (None, 50)                25050     \n",
      "_________________________________________________________________\n",
      "dropout_3 (Dropout)          (None, 50)                0         \n",
      "_________________________________________________________________\n",
      "dense_4 (Dense)              (None, 1)                 51        \n",
      "=================================================================\n",
      "Total params: 1,801,601\n",
      "Trainable params: 1,801,601\n",
      "Non-trainable params: 0\n",
      "_________________________________________________________________\n"
     ]
    }
   ],
   "source": [
    "model.summary()"
   ]
  },
  {
   "cell_type": "code",
   "execution_count": 94,
   "id": "fd52b130",
   "metadata": {},
   "outputs": [
    {
     "name": "stdout",
     "output_type": "stream",
     "text": [
      "15/15 [==============================] - 0s 1ms/step\n"
     ]
    }
   ],
   "source": [
    "prd=model.predict(x_test[1:16],verbose=1)"
   ]
  },
  {
   "cell_type": "code",
   "execution_count": 95,
   "id": "b906ccff",
   "metadata": {},
   "outputs": [
    {
     "data": {
      "text/plain": [
       "array([[-14.734152 ],\n",
       "       [-15.369026 ],\n",
       "       [-12.470242 ],\n",
       "       [-22.357285 ],\n",
       "       [-12.953712 ],\n",
       "       [ -8.810686 ],\n",
       "       [ -9.641451 ],\n",
       "       [ -7.9805703],\n",
       "       [ -4.6884546],\n",
       "       [-10.7341585],\n",
       "       [-10.455816 ],\n",
       "       [ -5.1036754],\n",
       "       [-11.766878 ],\n",
       "       [ -6.477824 ],\n",
       "       [ -9.669495 ]], dtype=float32)"
      ]
     },
     "execution_count": 95,
     "metadata": {},
     "output_type": "execute_result"
    }
   ],
   "source": [
    "prd"
   ]
  },
  {
   "cell_type": "code",
   "execution_count": 96,
   "id": "91dec8a1",
   "metadata": {},
   "outputs": [],
   "source": [
    "actual=y_test[1:16]"
   ]
  },
  {
   "cell_type": "code",
   "execution_count": 97,
   "id": "7b9f72ad",
   "metadata": {},
   "outputs": [
    {
     "data": {
      "text/plain": [
       "array([[-0.1719978 , -0.01023931,  0.41503995,  0.1735564 ,  0.52018917,\n",
       "        -0.07377931, -0.19940857,  0.13498784,  0.11862378, -0.38078425,\n",
       "        -0.06497212,  0.31955247, -0.3399298 ,  0.08512268, -0.15319505]])"
      ]
     },
     "execution_count": 97,
     "metadata": {},
     "output_type": "execute_result"
    }
   ],
   "source": [
    "np.subtract(prd.T, actual) "
   ]
  },
  {
   "cell_type": "code",
   "execution_count": 18,
   "id": "66ce0b51",
   "metadata": {},
   "outputs": [
    {
     "name": "stdout",
     "output_type": "stream",
     "text": [
      "Train on 14617 samples, validate on 1625 samples\n",
      "Epoch 1/100\n",
      " - 24s - loss: 0.8855 - val_loss: 0.0985\n",
      "Epoch 2/100\n",
      " - 23s - loss: 0.8829 - val_loss: 0.1519\n",
      "Epoch 3/100\n",
      " - 22s - loss: 0.8746 - val_loss: 0.0920\n",
      "Epoch 4/100\n",
      " - 22s - loss: 0.8633 - val_loss: 0.1171\n",
      "Epoch 5/100\n",
      " - 23s - loss: 0.8461 - val_loss: 0.1701\n",
      "Epoch 6/100\n",
      " - 23s - loss: 0.7977 - val_loss: 0.1257\n",
      "Epoch 7/100\n",
      " - 23s - loss: 0.7800 - val_loss: 0.1114\n",
      "Epoch 8/100\n",
      " - 22s - loss: 0.7725 - val_loss: 0.1101\n",
      "Epoch 00008: early stopping\n"
     ]
    }
   ],
   "source": [
    "model_1 = Sequential()\n",
    "model_1.add(Dense(1000, input_dim=x.shape[1],kernel_initializer='normal', activation='relu'))\n",
    "model_1.add(Dropout(0.25))\n",
    "model_1.add(Dense(750,kernel_initializer='normal', activation='relu'))\n",
    "model_1.add(Dropout(0.25))\n",
    "model_1.add(Dense(500,kernel_initializer='normal', activation='relu'))\n",
    "model_1.add(Dropout(0.25))\n",
    "model_1.add(Dense(250,kernel_initializer='normal', activation='relu'))\n",
    "model_1.add(Dropout(0.25))\n",
    "model_1.add(Dense(50,kernel_initializer='normal', activation='relu'))\n",
    "model_1.add(Dropout(0.25))\n",
    "model_1.add(Dense(1))\n",
    "model_1.compile(loss='mean_squared_error', optimizer='adam')\n",
    "monitor = EarlyStopping(monitor='val_loss', min_delta=1e-3, patience=5, verbose=1, mode='auto')\n",
    "\n",
    "hist_1=model.fit(x_train, y_train,validation_data=(x_test,y_test),callbacks=[monitor],verbose=2,epochs=100)"
   ]
  },
  {
   "cell_type": "code",
   "execution_count": 19,
   "id": "eeffa814",
   "metadata": {},
   "outputs": [
    {
     "name": "stdout",
     "output_type": "stream",
     "text": [
      "Model: \"sequential_2\"\n",
      "_________________________________________________________________\n",
      "Layer (type)                 Output Shape              Param #   \n",
      "=================================================================\n",
      "dense_5 (Dense)              (None, 1000)              1276000   \n",
      "_________________________________________________________________\n",
      "dropout_4 (Dropout)          (None, 1000)              0         \n",
      "_________________________________________________________________\n",
      "dense_6 (Dense)              (None, 750)               750750    \n",
      "_________________________________________________________________\n",
      "dropout_5 (Dropout)          (None, 750)               0         \n",
      "_________________________________________________________________\n",
      "dense_7 (Dense)              (None, 500)               375500    \n",
      "_________________________________________________________________\n",
      "dropout_6 (Dropout)          (None, 500)               0         \n",
      "_________________________________________________________________\n",
      "dense_8 (Dense)              (None, 250)               125250    \n",
      "_________________________________________________________________\n",
      "dropout_7 (Dropout)          (None, 250)               0         \n",
      "_________________________________________________________________\n",
      "dense_9 (Dense)              (None, 50)                12550     \n",
      "_________________________________________________________________\n",
      "dropout_8 (Dropout)          (None, 50)                0         \n",
      "_________________________________________________________________\n",
      "dense_10 (Dense)             (None, 1)                 51        \n",
      "=================================================================\n",
      "Total params: 2,540,101\n",
      "Trainable params: 2,540,101\n",
      "Non-trainable params: 0\n",
      "_________________________________________________________________\n"
     ]
    }
   ],
   "source": [
    "model_1.summary()"
   ]
  },
  {
   "cell_type": "code",
   "execution_count": 92,
   "id": "77920720",
   "metadata": {},
   "outputs": [
    {
     "data": {
      "text/plain": [
       "array([[11.28717016, 11.93429403,  9.04583305, 19.67537554, 10.46331704,\n",
       "         5.00659207,  6.68214269,  5.25708081,  1.66270762,  5.42696026,\n",
       "         7.6376789 ,  2.34992223,  9.1389518 ,  4.81206832,  4.40071711]])"
      ]
     },
     "execution_count": 92,
     "metadata": {},
     "output_type": "execute_result"
    }
   ],
   "source": [
    "np.subtract(prd_1.T,actual_1) "
   ]
  },
  {
   "cell_type": "code",
   "execution_count": 86,
   "id": "7ed085e0",
   "metadata": {},
   "outputs": [
    {
     "data": {
      "text/plain": [
       "array([0.4496047 , 0.40465754, 0.54421624, 0.        , 0.51100545,\n",
       "       0.77827347, 0.73848872, 0.81333085, 1.        , 0.68707006,\n",
       "       0.68495596, 0.96523597, 0.62649748, 0.90093139, 0.73429901])"
      ]
     },
     "execution_count": 86,
     "metadata": {},
     "output_type": "execute_result"
    }
   ],
   "source": [
    "dataa"
   ]
  },
  {
   "cell_type": "code",
   "execution_count": 87,
   "id": "48a26859",
   "metadata": {},
   "outputs": [
    {
     "name": "stdout",
     "output_type": "stream",
     "text": [
      "15/15 [==============================] - 0s 1ms/step\n"
     ]
    }
   ],
   "source": [
    "prd_1=model_1.predict(x_test[1:16],verbose=1)"
   ]
  },
  {
   "cell_type": "code",
   "execution_count": 91,
   "id": "435ba29b",
   "metadata": {},
   "outputs": [
    {
     "data": {
      "text/plain": [
       "array([[-3.274984 ],\n",
       "       [-3.4244928],\n",
       "       [-3.8394485],\n",
       "       [-2.8554654],\n",
       "       [-3.0105846],\n",
       "       [-3.7303147],\n",
       "       [-2.7598996],\n",
       "       [-2.8584774],\n",
       "       [-3.1443708],\n",
       "       [-4.926414 ],\n",
       "       [-2.7531652],\n",
       "       [-3.0733056],\n",
       "       [-2.2879965],\n",
       "       [-1.7508786],\n",
       "       [-5.1155825]], dtype=float32)"
      ]
     },
     "execution_count": 91,
     "metadata": {},
     "output_type": "execute_result"
    }
   ],
   "source": [
    "prd_1"
   ]
  },
  {
   "cell_type": "code",
   "execution_count": 84,
   "id": "ccf2cd2e",
   "metadata": {},
   "outputs": [],
   "source": [
    "actual_1=y_test[1:16]"
   ]
  },
  {
   "cell_type": "code",
   "execution_count": 22,
   "id": "ecd99302",
   "metadata": {},
   "outputs": [
    {
     "data": {
      "text/plain": [
       "array([[11.28717016, 11.93429403,  9.04583305, 19.67537554, 10.46331704,\n",
       "         5.00659207,  6.68214269,  5.25708081,  1.66270762,  5.42696026,\n",
       "         7.6376789 ,  2.34992223,  9.13895466,  4.81206844]])"
      ]
     },
     "execution_count": 22,
     "metadata": {},
     "output_type": "execute_result"
    }
   ],
   "source": [
    "np.subtract(prd_1.T, actual_1) "
   ]
  },
  {
   "cell_type": "code",
   "execution_count": 23,
   "id": "9fd6f216",
   "metadata": {},
   "outputs": [
    {
     "name": "stdout",
     "output_type": "stream",
     "text": [
      "Train on 14617 samples, validate on 1625 samples\n",
      "Epoch 1/100\n",
      " - 23s - loss: 0.7583 - val_loss: 0.3256\n",
      "Epoch 2/100\n",
      " - 22s - loss: 0.7655 - val_loss: 0.1268\n",
      "Epoch 3/100\n",
      " - 22s - loss: 0.7298 - val_loss: 0.0957\n",
      "Epoch 4/100\n",
      " - 23s - loss: 0.7087 - val_loss: 0.0946\n",
      "Epoch 5/100\n",
      " - 22s - loss: 0.6836 - val_loss: 0.1635\n",
      "Epoch 6/100\n",
      " - 22s - loss: 0.6831 - val_loss: 0.2094\n",
      "Epoch 7/100\n",
      " - 22s - loss: 0.6445 - val_loss: 0.1082\n",
      "Epoch 8/100\n",
      " - 22s - loss: 0.6521 - val_loss: 0.1319\n",
      "Epoch 9/100\n",
      " - 23s - loss: 0.6251 - val_loss: 0.1132\n",
      "Epoch 00009: early stopping\n"
     ]
    }
   ],
   "source": [
    "model_3 = Sequential()\n",
    "model_3.add(Dense(1000, input_dim=x.shape[1],kernel_initializer='normal', activation='sigmoid'))\n",
    "model_3.add(Dropout(0.25))\n",
    "model_3.add(Dense(500,kernel_initializer='normal', activation='sigmoid'))\n",
    "model_3.add(Dropout(0.25))\n",
    "model_3.add(Dense(50,kernel_initializer='normal'))\n",
    "model_3.add(Dropout(0.25))\n",
    "model_3.add(Dense(1))\n",
    "model_3.compile(loss='mean_squared_error', optimizer='adam')\n",
    "monitor = EarlyStopping(monitor='val_loss', min_delta=1e-3, patience=5, verbose=1, mode='auto')\n",
    "\n",
    "hist_3=model.fit(x_train, y_train,validation_data=(x_test,y_test),callbacks=[monitor],verbose=2,epochs=100)"
   ]
  },
  {
   "cell_type": "code",
   "execution_count": 24,
   "id": "ee3a5c9e",
   "metadata": {},
   "outputs": [
    {
     "name": "stdout",
     "output_type": "stream",
     "text": [
      "Model: \"sequential_3\"\n",
      "_________________________________________________________________\n",
      "Layer (type)                 Output Shape              Param #   \n",
      "=================================================================\n",
      "dense_11 (Dense)             (None, 1000)              1276000   \n",
      "_________________________________________________________________\n",
      "dropout_9 (Dropout)          (None, 1000)              0         \n",
      "_________________________________________________________________\n",
      "dense_12 (Dense)             (None, 500)               500500    \n",
      "_________________________________________________________________\n",
      "dropout_10 (Dropout)         (None, 500)               0         \n",
      "_________________________________________________________________\n",
      "dense_13 (Dense)             (None, 50)                25050     \n",
      "_________________________________________________________________\n",
      "dropout_11 (Dropout)         (None, 50)                0         \n",
      "_________________________________________________________________\n",
      "dense_14 (Dense)             (None, 1)                 51        \n",
      "=================================================================\n",
      "Total params: 1,801,601\n",
      "Trainable params: 1,801,601\n",
      "Non-trainable params: 0\n",
      "_________________________________________________________________\n"
     ]
    }
   ],
   "source": [
    "model_3.summary()"
   ]
  },
  {
   "cell_type": "code",
   "execution_count": 25,
   "id": "2d44cdad",
   "metadata": {},
   "outputs": [],
   "source": [
    "prd_3=model_3.predict(x_test[1:16])\n"
   ]
  },
  {
   "cell_type": "code",
   "execution_count": 26,
   "id": "7642a36e",
   "metadata": {},
   "outputs": [
    {
     "data": {
      "text/plain": [
       "array([[-0.10026333],\n",
       "       [-0.13563022],\n",
       "       [-0.14711362],\n",
       "       [ 0.09840055],\n",
       "       [-0.14853713],\n",
       "       [-0.05483326],\n",
       "       [ 0.19326134],\n",
       "       [-0.11709094],\n",
       "       [-0.02504596],\n",
       "       [-0.19588226],\n",
       "       [ 0.00975659],\n",
       "       [-0.08045825],\n",
       "       [ 0.09709512],\n",
       "       [-0.02699101],\n",
       "       [-0.02038819]], dtype=float32)"
      ]
     },
     "execution_count": 26,
     "metadata": {},
     "output_type": "execute_result"
    }
   ],
   "source": [
    "prd_3"
   ]
  },
  {
   "cell_type": "code",
   "execution_count": 27,
   "id": "77b12c6f",
   "metadata": {},
   "outputs": [],
   "source": [
    "actual_3=y_test[1:16]"
   ]
  },
  {
   "cell_type": "code",
   "execution_count": 28,
   "id": "89ba2dda",
   "metadata": {},
   "outputs": [
    {
     "data": {
      "text/plain": [
       "array([-14.56215404, -15.35878687, -12.8852815 , -22.53084095,\n",
       "       -13.47390163,  -8.7369068 ,  -9.44204231,  -8.11555816,\n",
       "        -4.80707841, -10.35337427, -10.39084415,  -5.42322784,\n",
       "       -11.42694833,  -6.56294689,  -9.51629958])"
      ]
     },
     "execution_count": 28,
     "metadata": {},
     "output_type": "execute_result"
    }
   ],
   "source": [
    "actual_3"
   ]
  },
  {
   "cell_type": "code",
   "execution_count": 36,
   "id": "efab7391",
   "metadata": {},
   "outputs": [
    {
     "name": "stdout",
     "output_type": "stream",
     "text": [
      "Train on 14617 samples, validate on 1625 samples\n",
      "Epoch 1/20\n",
      "14617/14617 [==============================] - 24s 2ms/step - loss: 0.4402 - val_loss: 0.1584\n",
      "Epoch 2/20\n",
      "14617/14617 [==============================] - 24s 2ms/step - loss: 0.4257 - val_loss: 0.0747\n",
      "Epoch 3/20\n",
      "14617/14617 [==============================] - 24s 2ms/step - loss: 0.4285 - val_loss: 0.1321\n",
      "Epoch 4/20\n",
      "14617/14617 [==============================] - 25s 2ms/step - loss: 0.4230 - val_loss: 0.0671\n",
      "Epoch 5/20\n",
      "14617/14617 [==============================] - 25s 2ms/step - loss: 0.4135 - val_loss: 0.0857\n",
      "Epoch 6/20\n",
      "14617/14617 [==============================] - 24s 2ms/step - loss: 0.4007 - val_loss: 0.0746\n",
      "Epoch 7/20\n",
      "14617/14617 [==============================] - 23s 2ms/step - loss: 0.4121 - val_loss: 0.0899\n",
      "Epoch 8/20\n",
      "14617/14617 [==============================] - 24s 2ms/step - loss: 0.4072 - val_loss: 0.1175\n",
      "Epoch 9/20\n",
      "14617/14617 [==============================] - 26s 2ms/step - loss: 0.3990 - val_loss: 0.0745\n",
      "Epoch 10/20\n",
      "14617/14617 [==============================] - 25s 2ms/step - loss: 0.3828 - val_loss: 0.1523\n",
      "Epoch 11/20\n",
      "14617/14617 [==============================] - 26s 2ms/step - loss: 0.3769 - val_loss: 0.0631\n",
      "Epoch 12/20\n",
      "14617/14617 [==============================] - 25s 2ms/step - loss: 0.3798 - val_loss: 0.0756\n",
      "Epoch 13/20\n",
      "14617/14617 [==============================] - 26s 2ms/step - loss: 0.3670 - val_loss: 0.1013\n",
      "Epoch 14/20\n",
      "14617/14617 [==============================] - 24s 2ms/step - loss: 0.3777 - val_loss: 0.0689\n",
      "Epoch 15/20\n",
      "14617/14617 [==============================] - 26s 2ms/step - loss: 0.3602 - val_loss: 0.0784\n",
      "Epoch 16/20\n",
      "14617/14617 [==============================] - 25s 2ms/step - loss: 0.3698 - val_loss: 0.0770\n",
      "Epoch 17/20\n",
      "14617/14617 [==============================] - 25s 2ms/step - loss: 0.3566 - val_loss: 0.0808\n",
      "Epoch 18/20\n",
      "14617/14617 [==============================] - 25s 2ms/step - loss: 0.3560 - val_loss: 0.0773\n",
      "Epoch 19/20\n",
      "14617/14617 [==============================] - 25s 2ms/step - loss: 0.3545 - val_loss: 0.0698\n",
      "Epoch 20/20\n",
      "14617/14617 [==============================] - 26s 2ms/step - loss: 0.3352 - val_loss: 0.0944\n"
     ]
    }
   ],
   "source": [
    "model_2 = Sequential()\n",
    "model_2.add(Dense(1000, input_dim=x.shape[1],kernel_initializer='normal', activation='sigmoid'))\n",
    "model_2.add(Dropout(0.25))\n",
    "model_2.add(Dense(500,kernel_initializer='normal', activation='sigmoid'))\n",
    "model_2.add(Dropout(0.25))\n",
    "model_2.add(Dense(100,kernel_initializer='normal'))\n",
    "model_2.add(Dropout(0.25))\n",
    "model_2.add(Dense(1))\n",
    "model_2.compile(loss='mean_squared_error', optimizer='adam')\n",
    "\n",
    "hist_2=model.fit(x_train, y_train,validation_data=(x_test,y_test),epochs=20)"
   ]
  },
  {
   "cell_type": "code",
   "execution_count": 55,
   "id": "0580388e",
   "metadata": {},
   "outputs": [],
   "source": [
    "dat=y_test[1:16].reshape(15,1)\n"
   ]
  },
  {
   "cell_type": "code",
   "execution_count": 56,
   "id": "b79af08a",
   "metadata": {},
   "outputs": [
    {
     "name": "stdout",
     "output_type": "stream",
     "text": [
      "[[0.4496047 ]\n",
      " [0.40465754]\n",
      " [0.54421624]\n",
      " [0.        ]\n",
      " [0.51100545]\n",
      " [0.77827347]\n",
      " [0.73848872]\n",
      " [0.81333085]\n",
      " [1.        ]\n",
      " [0.68707006]\n",
      " [0.68495596]\n",
      " [0.96523597]\n",
      " [0.62649748]\n",
      " [0.90093139]\n",
      " [0.73429901]]\n"
     ]
    }
   ],
   "source": [
    "from sklearn.preprocessing import MinMaxScaler\n",
    "scaler = MinMaxScaler()\n",
    "scaled = scaler.fit_transform(dat)\n",
    "print(scaled)"
   ]
  },
  {
   "cell_type": "code",
   "execution_count": 59,
   "id": "525d9c79",
   "metadata": {},
   "outputs": [],
   "source": [
    "dataa=scaled.reshape(15,)"
   ]
  },
  {
   "cell_type": "code",
   "execution_count": 63,
   "id": "f1b3636e",
   "metadata": {},
   "outputs": [],
   "source": [
    "actual_3=model_3.predict(x_test[1:16])"
   ]
  },
  {
   "cell_type": "code",
   "execution_count": 70,
   "id": "9932765d",
   "metadata": {},
   "outputs": [
    {
     "data": {
      "text/plain": [
       "array([[-0.54986803, -0.54028776, -0.69132986,  0.09840055, -0.65954258,\n",
       "        -0.83310673, -0.54522738, -0.93042179, -1.02504596, -0.88295233,\n",
       "        -0.67519937, -1.04569422, -0.52940237, -0.9279224 , -0.7546872 ]])"
      ]
     },
     "execution_count": 70,
     "metadata": {},
     "output_type": "execute_result"
    }
   ],
   "source": [
    "np.subtract(actual_3.T,dataa) "
   ]
  },
  {
   "cell_type": "code",
   "execution_count": 73,
   "id": "c9e7adae",
   "metadata": {},
   "outputs": [],
   "source": [
    "actual_2=model_2.predict(x_test[1:16])"
   ]
  },
  {
   "cell_type": "code",
   "execution_count": 74,
   "id": "055d41b2",
   "metadata": {},
   "outputs": [
    {
     "data": {
      "text/plain": [
       "array([[ 0.39339393,  0.33737279,  0.26124838,  0.74536288,  0.26380778,\n",
       "        -0.16792036,  0.06002815, -0.23967405, -0.46827465,  0.12448711,\n",
       "        -0.04215211, -0.30826165,  0.07893934, -0.3177813 , -0.01319618]])"
      ]
     },
     "execution_count": 74,
     "metadata": {},
     "output_type": "execute_result"
    }
   ],
   "source": [
    "np.subtract(actual_2.T,dataa) "
   ]
  },
  {
   "cell_type": "code",
   "execution_count": 37,
   "id": "cc3fa69d",
   "metadata": {},
   "outputs": [
    {
     "data": {
      "text/plain": [
       "[0.1583997623553643,\n",
       " 0.07471903070578208,\n",
       " 0.13214974164045773,\n",
       " 0.06710048332122656,\n",
       " 0.08574392459484247,\n",
       " 0.07460550971214588,\n",
       " 0.0899305561047334,\n",
       " 0.11745479286634004,\n",
       " 0.07451509173099811,\n",
       " 0.15226829154674823,\n",
       " 0.06312578431459574,\n",
       " 0.07556407772577727,\n",
       " 0.10133377452080067,\n",
       " 0.06890777625487401,\n",
       " 0.0784329652098509,\n",
       " 0.07703355907018368,\n",
       " 0.08079624732641073,\n",
       " 0.07734414866795906,\n",
       " 0.0698376420552914,\n",
       " 0.09442769874746983]"
      ]
     },
     "execution_count": 37,
     "metadata": {},
     "output_type": "execute_result"
    }
   ],
   "source": [
    "hist_2.history[\"val_loss\"]"
   ]
  },
  {
   "cell_type": "code",
   "execution_count": 38,
   "id": "dadae15b",
   "metadata": {},
   "outputs": [
    {
     "name": "stdout",
     "output_type": "stream",
     "text": [
      "Model: \"sequential_5\"\n",
      "_________________________________________________________________\n",
      "Layer (type)                 Output Shape              Param #   \n",
      "=================================================================\n",
      "dense_19 (Dense)             (None, 1000)              1276000   \n",
      "_________________________________________________________________\n",
      "dropout_15 (Dropout)         (None, 1000)              0         \n",
      "_________________________________________________________________\n",
      "dense_20 (Dense)             (None, 500)               500500    \n",
      "_________________________________________________________________\n",
      "dropout_16 (Dropout)         (None, 500)               0         \n",
      "_________________________________________________________________\n",
      "dense_21 (Dense)             (None, 100)               50100     \n",
      "_________________________________________________________________\n",
      "dropout_17 (Dropout)         (None, 100)               0         \n",
      "_________________________________________________________________\n",
      "dense_22 (Dense)             (None, 1)                 101       \n",
      "=================================================================\n",
      "Total params: 1,826,701\n",
      "Trainable params: 1,826,701\n",
      "Non-trainable params: 0\n",
      "_________________________________________________________________\n"
     ]
    }
   ],
   "source": [
    "model_2.summary()"
   ]
  },
  {
   "cell_type": "code",
   "execution_count": 79,
   "id": "5e6b2037",
   "metadata": {},
   "outputs": [
    {
     "data": {
      "text/plain": [
       "<matplotlib.legend.Legend at 0x216331904a8>"
      ]
     },
     "execution_count": 79,
     "metadata": {},
     "output_type": "execute_result"
    },
    {
     "data": {
      "image/png": "[encoded data removed]",
      "text/plain": [
       "<Figure size 432x288 with 1 Axes>"
      ]
     },
     "metadata": {
      "needs_background": "light"
     },
     "output_type": "display_data"
    }
   ],
   "source": [
    "fig, ax = plt.subplots()\n",
    "ax.plot(hist_2.history[\"loss\"],'r', marker='.', label=\"Train Loss\")\n",
    "ax.plot(hist_2.history[\"val_loss\"],'b', marker='.', label=\"Validation Loss\")\n",
    "ax.legend()"
   ]
  },
  {
   "cell_type": "code",
   "execution_count": 80,
   "id": "69ea69df",
   "metadata": {},
   "outputs": [
    {
     "data": {
      "text/plain": [
       "<matplotlib.legend.Legend at 0x216332328d0>"
      ]
     },
     "execution_count": 80,
     "metadata": {},
     "output_type": "execute_result"
    },
    {
     "data": {
      "image/png": "[encoded data removed]",
      "text/plain": [
       "<Figure size 432x288 with 1 Axes>"
      ]
     },
     "metadata": {
      "needs_background": "light"
     },
     "output_type": "display_data"
    }
   ],
   "source": [
    "fig, ax = plt.subplots()\n",
    "ax.plot(hist_1.history[\"loss\"],'r', marker='.', label=\"Train Loss\")\n",
    "ax.plot(hist_1.history[\"val_loss\"],'b', marker='.', label=\"Validation Loss\")\n",
    "ax.legend()"
   ]
  },
  {
   "cell_type": "code",
   "execution_count": 81,
   "id": "d32cb699",
   "metadata": {
    "scrolled": false
   },
   "outputs": [
    {
     "data": {
      "text/plain": [
       "<matplotlib.legend.Legend at 0x216348b9da0>"
      ]
     },
     "execution_count": 81,
     "metadata": {},
     "output_type": "execute_result"
    },
    {
     "data": {
      "image/png": "[encoded data removed]",
      "text/plain": [
       "<Figure size 432x288 with 1 Axes>"
      ]
     },
     "metadata": {
      "needs_background": "light"
     },
     "output_type": "display_data"
    }
   ],
   "source": [
    "fig, ax = plt.subplots()\n",
    "ax.plot(hist.history[\"loss\"],'r', marker='.', label=\"Train Loss\")\n",
    "ax.plot(hist.history[\"val_loss\"],'b', marker='.', label=\"Validation Loss\")\n",
    "ax.legend()"
   ]
  },
  {
   "cell_type": "code",
   "execution_count": 82,
   "id": "6db5c427",
   "metadata": {},
   "outputs": [
    {
     "data": {
      "text/plain": [
       "<matplotlib.legend.Legend at 0x21634931a90>"
      ]
     },
     "execution_count": 82,
     "metadata": {},
     "output_type": "execute_result"
    },
    {
     "data": {
      "image/png": "[encoded data removed]",
      "text/plain": [
       "<Figure size 432x288 with 1 Axes>"
      ]
     },
     "metadata": {
      "needs_background": "light"
     },
     "output_type": "display_data"
    }
   ],
   "source": [
    "fig, ax = plt.subplots()\n",
    "ax.plot(hist_3.history[\"loss\"],'r', marker='.', label=\"Train Loss\")\n",
    "ax.plot(hist_3.history[\"val_loss\"],'b', marker='.', label=\"Validation Loss\")\n",
    "ax.legend()"
   ]
  },
  {
   "cell_type": "code",
   "execution_count": null,
   "id": "20a95793",
   "metadata": {},
   "outputs": [],
   "source": []
  }
 ],
 "metadata": {
  "kernelspec": {
   "display_name": "Python 3 (ipykernel)",
   "language": "python",
   "name": "python3"
  },
  "language_info": {
   "codemirror_mode": {
    "name": "ipython",
    "version": 3
   },
   "file_extension": ".py",
   "mimetype": "text/x-python",
   "name": "python",
   "nbconvert_exporter": "python",
   "pygments_lexer": "ipython3",
   "version": "3.9.12"
  }
 },
 "nbformat": 4,
 "nbformat_minor": 5
}
